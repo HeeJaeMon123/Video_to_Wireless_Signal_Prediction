{
 "cells": [
  {
   "cell_type": "code",
   "execution_count": 3,
   "id": "95ebb4f2",
   "metadata": {},
   "outputs": [],
   "source": [
    "from keras.preprocessing.image import ImageDataGenerator\n",
    "import imageio\n",
    "import numpy as np"
   ]
  },
  {
   "cell_type": "code",
   "execution_count": 4,
   "id": "716e73e1",
   "metadata": {},
   "outputs": [],
   "source": [
    "datagen = ImageDataGenerator(rotation_range=np.random.randint(30), width_shift_range=0.1, \n",
    "height_shift_range=0.1,shear_range=0.15, \n",
    "zoom_range=0.1,channel_shift_range = 10, horizontal_flip=True)"
   ]
  },
  {
   "cell_type": "code",
   "execution_count": null,
   "id": "3bbf0c51",
   "metadata": {},
   "outputs": [],
   "source": [
    "save_here = 'your path'\n",
    "\n",
    "for j in range(33):\n",
    "    for i in range(38):\n",
    "        image_path = image_list[i]\n",
    "        image = np.expand_dims(imageio.imread(image_path), 0)\n",
    "        datagen.fit(image)\n",
    "        for x, val in zip(datagen.flow(image,                    \n",
    "                save_to_dir=save_here,    \n",
    "                 save_prefix=a[j]+image_list[i].split('/')[2].split('.')[0]+'_no_padding',        \n",
    "                save_format='jpg'),range(0)) :     \n",
    "             pass\n",
    "\n",
    "#print(x)\n",
    "#     print(val)"
   ]
  }
 ],
 "metadata": {
  "kernelspec": {
   "display_name": "Python 3 (ipykernel)",
   "language": "python",
   "name": "python3"
  },
  "language_info": {
   "codemirror_mode": {
    "name": "ipython",
    "version": 3
   },
   "file_extension": ".py",
   "mimetype": "text/x-python",
   "name": "python",
   "nbconvert_exporter": "python",
   "pygments_lexer": "ipython3",
   "version": "3.9.7"
  }
 },
 "nbformat": 4,
 "nbformat_minor": 5
}
